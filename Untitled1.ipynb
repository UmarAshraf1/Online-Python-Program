{
 "cells": [
  {
   "cell_type": "code",
   "execution_count": 1,
   "id": "ffdd34bb",
   "metadata": {},
   "outputs": [
    {
     "name": "stdout",
     "output_type": "stream",
     "text": [
      "Enter the first number: 2\n",
      "Enter the second number: 4\n",
      "Enter the operator you want to perform\n",
      "Enter any of these operator for operation +, -, *, /  +\n",
      "2 + 4 :  6\n"
     ]
    }
   ],
   "source": [
    "# 1. Make a calculator using Python with addition , subtraction , multiplication ,division and power.\n",
    "\n",
    "num1=int(input(\"Enter the first number: \"))\n",
    "num2=int(input(\"Enter the second number: \"))\n",
    "\n",
    "print(\"Enter the operator you want to perform\");\n",
    "\n",
    "ch=input(\"Enter any of these operator for operation +, -, *, /  \")\n",
    "\n",
    "result=0\n",
    "\n",
    "if ch=='+':\n",
    "    result=num1+num2;\n",
    "elif ch=='-':\n",
    "    result=num1-num2;\n",
    "elif ch=='*':\n",
    "    result=num1*num2;\n",
    "elif ch=='/':\n",
    "    result=num1/num2;\n",
    "else:\n",
    "    print(\"char is not supported\");\n",
    "print(num1,ch,num2,\": \",result)"
   ]
  },
  {
   "cell_type": "code",
   "execution_count": 4,
   "id": "50542e71",
   "metadata": {},
   "outputs": [
    {
     "name": "stdout",
     "output_type": "stream",
     "text": [
      "98\n"
     ]
    }
   ],
   "source": [
    "# 2. Write a program to check if there is any numeric value in list using for loop.\n",
    "\n",
    "mixed = [\"a\", \"b\", 98, \"h\"] \n",
    "for num in mixed: \n",
    "    if type(num) == int: \n",
    "        print(num)\n"
   ]
  },
  {
   "cell_type": "code",
   "execution_count": 6,
   "id": "66a2feae",
   "metadata": {},
   "outputs": [
    {
     "name": "stdout",
     "output_type": "stream",
     "text": [
      "{0: 22, 1: 29}\n",
      "{0: 22, 1: 29, 2: 98}\n"
     ]
    }
   ],
   "source": [
    "# 3. Write a Python script to add a key to a dictionary.\n",
    "\n",
    "d = {0:22, 1:29}\n",
    "print(d)\n",
    "d.update({2:98})\n",
    "print(d)"
   ]
  },
  {
   "cell_type": "code",
   "execution_count": 7,
   "id": "aa0a5547",
   "metadata": {},
   "outputs": [
    {
     "name": "stdout",
     "output_type": "stream",
     "text": [
      "10120\n"
     ]
    }
   ],
   "source": [
    "# 4. Write a Python program to sum all the numeric items in a dictionary.\n",
    "\n",
    "my_dict = {'num1':18,'num2':103,'num3':9999}\n",
    "print(sum(my_dict.values()))"
   ]
  },
  {
   "cell_type": "code",
   "execution_count": 8,
   "id": "1b35312b",
   "metadata": {},
   "outputs": [
    {
     "name": "stdout",
     "output_type": "stream",
     "text": [
      "1 5 8 2 "
     ]
    }
   ],
   "source": [
    "# 5. Write a program to identify duplicate values from list.\n",
    "\n",
    "numList=[1,1,2,3,45,5,5,6,7,8,8,2]\n",
    "l1=[]\n",
    "for i in numList:\n",
    "    if i not in l1:\n",
    "        l1.append(i)\n",
    "    else:\n",
    "        print(i,end=' ')\n"
   ]
  },
  {
   "cell_type": "code",
   "execution_count": 9,
   "id": "47cbcf0a",
   "metadata": {},
   "outputs": [
    {
     "name": "stdout",
     "output_type": "stream",
     "text": [
      "Key is present in the dictionary\n",
      "Key is present in the dictionary\n"
     ]
    }
   ],
   "source": [
    "# 6. Write a Python script to check if a given key already exists in a dictionary\n",
    "\n",
    "d = {1: 15, 2: 20, 3: 25, 4: 30, 5: 35, 6: 40}\n",
    "def is_key_present(x):\n",
    "    if x in d:\n",
    "        print('Key is present in the dictionary')\n",
    "    else:\n",
    "        print('Key is not present in the dictionary')\n",
    "is_key_present(5)\n",
    "is_key_present(6)"
   ]
  },
  {
   "cell_type": "code",
   "execution_count": null,
   "id": "03f6cd2f",
   "metadata": {},
   "outputs": [],
   "source": []
  }
 ],
 "metadata": {
  "kernelspec": {
   "display_name": "Python 3 (ipykernel)",
   "language": "python",
   "name": "python3"
  },
  "language_info": {
   "codemirror_mode": {
    "name": "ipython",
    "version": 3
   },
   "file_extension": ".py",
   "mimetype": "text/x-python",
   "name": "python",
   "nbconvert_exporter": "python",
   "pygments_lexer": "ipython3",
   "version": "3.9.7"
  }
 },
 "nbformat": 4,
 "nbformat_minor": 5
}
