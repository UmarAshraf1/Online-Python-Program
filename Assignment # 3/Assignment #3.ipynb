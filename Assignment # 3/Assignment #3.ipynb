{
 "cells": [
  {
   "cell_type": "code",
   "execution_count": 6,
   "metadata": {
    "scrolled": true
   },
   "outputs": [
    {
     "name": "stdout",
     "output_type": "stream",
     "text": [
      "Twinkle, twinkle, little star,\n",
      "            How I wonder what you are\n",
      "                    Up above the world so high\n",
      "                    Like a diamond in the sky\n",
      "Twinkle, twinkle little star\n",
      "            How I wonder what you are \n"
     ]
    }
   ],
   "source": [
    "#Questin #1\n",
    "Poem = \"\"\"Twinkle, twinkle, little star,\n",
    "            How I wonder what you are\n",
    "                    Up above the world so high\n",
    "                    Like a diamond in the sky\n",
    "Twinkle, twinkle little star\n",
    "            How I wonder what you are \"\"\"\n",
    "print(Poem)"
   ]
  },
  {
   "cell_type": "code",
   "execution_count": 10,
   "metadata": {},
   "outputs": [
    {
     "name": "stdout",
     "output_type": "stream",
     "text": [
      "3.8.5 (default, Sep  3 2020, 21:29:08) [MSC v.1916 64 bit (AMD64)]\n"
     ]
    }
   ],
   "source": [
    "#Questin #2\n",
    "\n",
    "import sys\n",
    "\n",
    "print(sys.version)"
   ]
  },
  {
   "cell_type": "code",
   "execution_count": 12,
   "metadata": {},
   "outputs": [
    {
     "name": "stdout",
     "output_type": "stream",
     "text": [
      "The current date and time of pakistan is : 2021-10-23 17:50:00.001409\n"
     ]
    }
   ],
   "source": [
    "#Questin #3\n",
    "\n",
    "from datetime import datetime\n",
    "current_time =datetime.now()\n",
    "print(\"The current date and time of pakistan is :\", current_time)"
   ]
  },
  {
   "cell_type": "code",
   "execution_count": 16,
   "metadata": {},
   "outputs": [
    {
     "name": "stdout",
     "output_type": "stream",
     "text": [
      "Enter the radius of the circle=2\n",
      "12.56\n"
     ]
    }
   ],
   "source": [
    "#Questin #4\n",
    "\n",
    "radius = int(input(\"Enter the radius of the circle=\"))\n",
    "area = 3.14*radius**2\n",
    "print(area)"
   ]
  },
  {
   "cell_type": "code",
   "execution_count": 20,
   "metadata": {},
   "outputs": [
    {
     "name": "stdout",
     "output_type": "stream",
     "text": [
      "Please enter the first name: Umar\n",
      "Please enter the second name: Ashraf\n",
      "Ashraf Umar\n"
     ]
    }
   ],
   "source": [
    "#Questin #5\n",
    "\n",
    "first_name = input(\"Please enter the first name: \")\n",
    "second_name = input(\"Please enter the second name: \")\n",
    "print ( second_name, first_name)"
   ]
  },
  {
   "cell_type": "code",
   "execution_count": 24,
   "metadata": {},
   "outputs": [
    {
     "name": "stdout",
     "output_type": "stream",
     "text": [
      "Please enter a number:2\n",
      "Please enter a number:3\n",
      "5\n"
     ]
    }
   ],
   "source": [
    "#Questin #6\n",
    "\n",
    "first_number =int(input(\"Please enter a number:\"))\n",
    "second_number = int(input(\"Please enter a number:\"))\n",
    "add = first_number + second_number\n",
    "print(add)"
   ]
  },
  {
   "cell_type": "code",
   "execution_count": 33,
   "metadata": {},
   "outputs": [
    {
     "name": "stdout",
     "output_type": "stream",
     "text": [
      "Enter your marks in English: 67\n",
      "Enter your marks in Maths: 98\n",
      "Enter your marks in Isl: 87\n",
      "Enter your marks in chemistry: 88\n",
      "Enter your marks in Biology: 77\n",
      "Congratultaions! You got Grade A+\n"
     ]
    }
   ],
   "source": [
    "#Questin #7\n",
    "\n",
    "Eng = int(input(\"Enter your marks in English: \"))\n",
    "Maths = int(input(\"Enter your marks in Maths: \"))\n",
    "Isl = int(input(\"Enter your marks in Isl: \"))\n",
    "chemistry = int(input(\"Enter your marks in chemistry: \"))\n",
    "Biology = int(input(\"Enter your marks in Biology: \"))\n",
    "obtained_marks = Eng + Isl + Maths + chemistry + Biology\n",
    "Total_Marks = 500\n",
    "percentage = (obtained_marks/Total_Marks)*100\n",
    "if percentage < 100 and percentage >= 80 :\n",
    "    print(\"Congratultaions! You got Grade A+\")\n",
    "elif percentage < 80  and percentage >= 70:\n",
    "    print(\"Congratultaions! You got A\")\n",
    "elif percentage < 70 and percentage >= 60:\n",
    "    print(\"Congratultaions! You got Grade B\")\n",
    "elif percentage < 60 and percentage >= 50:\n",
    "    print(\"Congratultaions! You got Grade C\")\n",
    "elif percentage < 50 and percentage >= 40:\n",
    "    print(\"Congratultaions! You got Grade D\")\n",
    "elif percentage < 40 and percentage >= 40:\n",
    "    print(\"You are fail!\")\n",
    "else:\n",
    "    print(\"You entered wrong Value\")\n",
    "\n"
   ]
  },
  {
   "cell_type": "code",
   "execution_count": 34,
   "metadata": {},
   "outputs": [
    {
     "name": "stdout",
     "output_type": "stream",
     "text": [
      "Enter a number:4\n",
      "Number is Even\n"
     ]
    }
   ],
   "source": [
    "#Questin #8\n",
    "\n",
    "number = int(input('Enter a number:'))\n",
    "if number % 2 == 0:\n",
    "    print(\"Number is Even\")\n",
    "elif number % 2 == 1:\n",
    "    print(\"Number is Odd \")\n",
    "else:\n",
    "    print(\"Numer is neither Even nor odd\")\n"
   ]
  },
  {
   "cell_type": "code",
   "execution_count": 37,
   "metadata": {},
   "outputs": [
    {
     "name": "stdout",
     "output_type": "stream",
     "text": [
      "4\n"
     ]
    }
   ],
   "source": [
    "#Questin #9\n",
    "\n",
    "Subjects = ['english','islamiat','chemistry','biology']\n",
    "print(len(Subjects))\n"
   ]
  },
  {
   "cell_type": "code",
   "execution_count": 28,
   "metadata": {},
   "outputs": [
    {
     "name": "stdout",
     "output_type": "stream",
     "text": [
      "174\n"
     ]
    }
   ],
   "source": [
    "#Questin #10\n",
    "\n",
    "a = [1,1,2,3,5,13,21,34,5,89]\n",
    "sum = 0\n",
    "for item in a:\n",
    "    sum = sum + item\n",
    "print(sum)"
   ]
  },
  {
   "cell_type": "code",
   "execution_count": 29,
   "metadata": {},
   "outputs": [
    {
     "name": "stdout",
     "output_type": "stream",
     "text": [
      "89\n"
     ]
    }
   ],
   "source": [
    "#Questin #11\n",
    "\n",
    "a = [1,1,2,3,5,13,21,34,5,89]\n",
    "print(max(a))"
   ]
  },
  {
   "cell_type": "code",
   "execution_count": 36,
   "metadata": {},
   "outputs": [
    {
     "name": "stdout",
     "output_type": "stream",
     "text": [
      "1\n",
      "1\n",
      "2\n",
      "3\n"
     ]
    }
   ],
   "source": [
    "#Questin #12\n",
    "\n",
    "a = [1,1,2,3,5,13,21,34,5,89]\n",
    "for item in a:\n",
    "    if item < 5:\n",
    "        print(item)\n",
    "    else:\n",
    "        break"
   ]
  },
  {
   "cell_type": "code",
   "execution_count": null,
   "metadata": {},
   "outputs": [],
   "source": []
  }
 ],
 "metadata": {
  "kernelspec": {
   "display_name": "Python 3",
   "language": "python",
   "name": "python3"
  },
  "language_info": {
   "codemirror_mode": {
    "name": "ipython",
    "version": 3
   },
   "file_extension": ".py",
   "mimetype": "text/x-python",
   "name": "python",
   "nbconvert_exporter": "python",
   "pygments_lexer": "ipython3",
   "version": "3.8.5"
  }
 },
 "nbformat": 4,
 "nbformat_minor": 4
}
